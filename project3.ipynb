{
 "cells": [
  {
   "cell_type": "markdown",
   "metadata": {},
   "source": [
    "# Analyze employee feedback surveys to identify areas of improvement"
   ]
  },
  {
   "cell_type": "markdown",
   "metadata": {},
   "source": [
    "***Importing nesseccesary libraries***"
   ]
  },
  {
   "cell_type": "code",
   "execution_count": 14,
   "metadata": {},
   "outputs": [],
   "source": [
    "import pandas as pd\n",
    "import numpy as np\n",
    "import matplotlib.pyplot as plt\n",
    "from sklearn.feature_extraction.text import TfidfVectorizer\n",
    "from sklearn.decomposition import LatentDirichletAllocation\n",
    "from nltk.tokenize import word_tokenize\n",
    "from nltk.corpus import stopwords\n",
    "from nltk.stem import WordNetLemmatizer\n",
    "import seaborn as sns\n"
   ]
  },
  {
   "cell_type": "markdown",
   "metadata": {},
   "source": [
    "***Reading CSV dataset file***"
   ]
  },
  {
   "cell_type": "code",
   "execution_count": 16,
   "metadata": {},
   "outputs": [
    {
     "data": {
      "text/html": [
       "<div>\n",
       "<style scoped>\n",
       "    .dataframe tbody tr th:only-of-type {\n",
       "        vertical-align: middle;\n",
       "    }\n",
       "\n",
       "    .dataframe tbody tr th {\n",
       "        vertical-align: top;\n",
       "    }\n",
       "\n",
       "    .dataframe thead th {\n",
       "        text-align: right;\n",
       "    }\n",
       "</style>\n",
       "<table border=\"1\" class=\"dataframe\">\n",
       "  <thead>\n",
       "    <tr style=\"text-align: right;\">\n",
       "      <th></th>\n",
       "      <th>id</th>\n",
       "      <th>person_name</th>\n",
       "      <th>nine_box_category</th>\n",
       "      <th>feedback</th>\n",
       "      <th>adjusted</th>\n",
       "      <th>reviewed</th>\n",
       "    </tr>\n",
       "  </thead>\n",
       "  <tbody>\n",
       "    <tr>\n",
       "      <th>0</th>\n",
       "      <td>1</td>\n",
       "      <td>John Doe</td>\n",
       "      <td>Category 1: 'Risk' (Low performance, Low poten...</td>\n",
       "      <td>John has not progressed in his position. He is...</td>\n",
       "      <td>False</td>\n",
       "      <td>True</td>\n",
       "    </tr>\n",
       "    <tr>\n",
       "      <th>1</th>\n",
       "      <td>2</td>\n",
       "      <td>John Doe</td>\n",
       "      <td>Category 1: 'Risk' (Low performance, Low poten...</td>\n",
       "      <td>John has consistently disappointed me this qua...</td>\n",
       "      <td>False</td>\n",
       "      <td>True</td>\n",
       "    </tr>\n",
       "    <tr>\n",
       "      <th>2</th>\n",
       "      <td>3</td>\n",
       "      <td>John Doe</td>\n",
       "      <td>Category 1: 'Risk' (Low performance, Low poten...</td>\n",
       "      <td>John turned in subpar work product all quarter...</td>\n",
       "      <td>False</td>\n",
       "      <td>True</td>\n",
       "    </tr>\n",
       "    <tr>\n",
       "      <th>3</th>\n",
       "      <td>6</td>\n",
       "      <td>John Doe</td>\n",
       "      <td>Category 1: 'Risk' (Low performance, Low poten...</td>\n",
       "      <td>John Doe demonstrates a low level of knowledge...</td>\n",
       "      <td>False</td>\n",
       "      <td>True</td>\n",
       "    </tr>\n",
       "    <tr>\n",
       "      <th>4</th>\n",
       "      <td>7</td>\n",
       "      <td>George Gill</td>\n",
       "      <td>Category 1: 'Risk' (Low performance, Low poten...</td>\n",
       "      <td>George gill's performance is really poor. He d...</td>\n",
       "      <td>False</td>\n",
       "      <td>True</td>\n",
       "    </tr>\n",
       "    <tr>\n",
       "      <th>...</th>\n",
       "      <td>...</td>\n",
       "      <td>...</td>\n",
       "      <td>...</td>\n",
       "      <td>...</td>\n",
       "      <td>...</td>\n",
       "      <td>...</td>\n",
       "    </tr>\n",
       "    <tr>\n",
       "      <th>873</th>\n",
       "      <td>10205</td>\n",
       "      <td>Bailey Hunt</td>\n",
       "      <td>Category 9: 'Star' (High performance, High pot...</td>\n",
       "      <td>No one performs like Bailey. I believe she wil...</td>\n",
       "      <td>False</td>\n",
       "      <td>False</td>\n",
       "    </tr>\n",
       "    <tr>\n",
       "      <th>874</th>\n",
       "      <td>10226</td>\n",
       "      <td>Thaddeus Burgess</td>\n",
       "      <td>Category 9: 'Star' (High performance, High pot...</td>\n",
       "      <td>Thaddeus Burgess is a constant force within th...</td>\n",
       "      <td>True</td>\n",
       "      <td>True</td>\n",
       "    </tr>\n",
       "    <tr>\n",
       "      <th>875</th>\n",
       "      <td>20022</td>\n",
       "      <td>Max Miller</td>\n",
       "      <td>Category 9: 'Star' (High performance, High pot...</td>\n",
       "      <td>Max Miller is a a great coworker.   He is dili...</td>\n",
       "      <td>True</td>\n",
       "      <td>True</td>\n",
       "    </tr>\n",
       "    <tr>\n",
       "      <th>876</th>\n",
       "      <td>20023</td>\n",
       "      <td>Allan Logan</td>\n",
       "      <td>Category 9: 'Star' (High performance, High pot...</td>\n",
       "      <td>Allan Logan, Excellent performer absolutely bl...</td>\n",
       "      <td>True</td>\n",
       "      <td>True</td>\n",
       "    </tr>\n",
       "    <tr>\n",
       "      <th>877</th>\n",
       "      <td>20024</td>\n",
       "      <td>Allan Logan</td>\n",
       "      <td>Category 9: 'Star' (High performance, High pot...</td>\n",
       "      <td>Allan Logan touches anything and it turns to g...</td>\n",
       "      <td>True</td>\n",
       "      <td>True</td>\n",
       "    </tr>\n",
       "  </tbody>\n",
       "</table>\n",
       "<p>878 rows × 6 columns</p>\n",
       "</div>"
      ],
      "text/plain": [
       "        id       person_name  \\\n",
       "0        1          John Doe   \n",
       "1        2          John Doe   \n",
       "2        3          John Doe   \n",
       "3        6          John Doe   \n",
       "4        7       George Gill   \n",
       "..     ...               ...   \n",
       "873  10205       Bailey Hunt   \n",
       "874  10226  Thaddeus Burgess   \n",
       "875  20022        Max Miller   \n",
       "876  20023       Allan Logan   \n",
       "877  20024       Allan Logan   \n",
       "\n",
       "                                     nine_box_category  \\\n",
       "0    Category 1: 'Risk' (Low performance, Low poten...   \n",
       "1    Category 1: 'Risk' (Low performance, Low poten...   \n",
       "2    Category 1: 'Risk' (Low performance, Low poten...   \n",
       "3    Category 1: 'Risk' (Low performance, Low poten...   \n",
       "4    Category 1: 'Risk' (Low performance, Low poten...   \n",
       "..                                                 ...   \n",
       "873  Category 9: 'Star' (High performance, High pot...   \n",
       "874  Category 9: 'Star' (High performance, High pot...   \n",
       "875  Category 9: 'Star' (High performance, High pot...   \n",
       "876  Category 9: 'Star' (High performance, High pot...   \n",
       "877  Category 9: 'Star' (High performance, High pot...   \n",
       "\n",
       "                                              feedback  adjusted  reviewed  \n",
       "0    John has not progressed in his position. He is...     False      True  \n",
       "1    John has consistently disappointed me this qua...     False      True  \n",
       "2    John turned in subpar work product all quarter...     False      True  \n",
       "3    John Doe demonstrates a low level of knowledge...     False      True  \n",
       "4    George gill's performance is really poor. He d...     False      True  \n",
       "..                                                 ...       ...       ...  \n",
       "873  No one performs like Bailey. I believe she wil...     False     False  \n",
       "874  Thaddeus Burgess is a constant force within th...      True      True  \n",
       "875  Max Miller is a a great coworker.   He is dili...      True      True  \n",
       "876  Allan Logan, Excellent performer absolutely bl...      True      True  \n",
       "877  Allan Logan touches anything and it turns to g...      True      True  \n",
       "\n",
       "[878 rows x 6 columns]"
      ]
     },
     "execution_count": 16,
     "metadata": {},
     "output_type": "execute_result"
    }
   ],
   "source": [
    "df  = pd.read_csv(r\"C:\\Users\\ktand\\Downloads\\archive\\employee_review_mturk_dataset_v10_kaggle.csv\")\n",
    "df"
   ]
  },
  {
   "cell_type": "markdown",
   "metadata": {},
   "source": [
    "***Import Warning to avoid unneccessary warnings***"
   ]
  },
  {
   "cell_type": "code",
   "execution_count": 17,
   "metadata": {},
   "outputs": [],
   "source": [
    "import warnings\n",
    "warnings.filterwarnings(\"ignore\", \"is_categorical_dtype\")\n",
    "warnings.filterwarnings(\"ignore\", \"use_inf_as_na\")\n",
    "warnings.filterwarnings(\"ignore\", message=\"When grouping with a length-1 list-like, you will need to pass a length-1 tuple to get_group.*\")\n",
    "warnings.simplefilter(action='ignore', category=FutureWarning)"
   ]
  },
  {
   "cell_type": "code",
   "execution_count": 9,
   "metadata": {},
   "outputs": [
    {
     "data": {
      "text/html": [
       "<div>\n",
       "<style scoped>\n",
       "    .dataframe tbody tr th:only-of-type {\n",
       "        vertical-align: middle;\n",
       "    }\n",
       "\n",
       "    .dataframe tbody tr th {\n",
       "        vertical-align: top;\n",
       "    }\n",
       "\n",
       "    .dataframe thead th {\n",
       "        text-align: right;\n",
       "    }\n",
       "</style>\n",
       "<table border=\"1\" class=\"dataframe\">\n",
       "  <thead>\n",
       "    <tr style=\"text-align: right;\">\n",
       "      <th></th>\n",
       "      <th>id</th>\n",
       "      <th>person_name</th>\n",
       "      <th>nine_box_category</th>\n",
       "      <th>feedback</th>\n",
       "      <th>adjusted</th>\n",
       "      <th>reviewed</th>\n",
       "    </tr>\n",
       "  </thead>\n",
       "  <tbody>\n",
       "    <tr>\n",
       "      <th>0</th>\n",
       "      <td>1</td>\n",
       "      <td>John Doe</td>\n",
       "      <td>Category 1: 'Risk' (Low performance, Low poten...</td>\n",
       "      <td>John has not progressed in his position. He is...</td>\n",
       "      <td>False</td>\n",
       "      <td>True</td>\n",
       "    </tr>\n",
       "    <tr>\n",
       "      <th>1</th>\n",
       "      <td>2</td>\n",
       "      <td>John Doe</td>\n",
       "      <td>Category 1: 'Risk' (Low performance, Low poten...</td>\n",
       "      <td>John has consistently disappointed me this qua...</td>\n",
       "      <td>False</td>\n",
       "      <td>True</td>\n",
       "    </tr>\n",
       "    <tr>\n",
       "      <th>2</th>\n",
       "      <td>3</td>\n",
       "      <td>John Doe</td>\n",
       "      <td>Category 1: 'Risk' (Low performance, Low poten...</td>\n",
       "      <td>John turned in subpar work product all quarter...</td>\n",
       "      <td>False</td>\n",
       "      <td>True</td>\n",
       "    </tr>\n",
       "    <tr>\n",
       "      <th>3</th>\n",
       "      <td>6</td>\n",
       "      <td>John Doe</td>\n",
       "      <td>Category 1: 'Risk' (Low performance, Low poten...</td>\n",
       "      <td>John Doe demonstrates a low level of knowledge...</td>\n",
       "      <td>False</td>\n",
       "      <td>True</td>\n",
       "    </tr>\n",
       "    <tr>\n",
       "      <th>4</th>\n",
       "      <td>7</td>\n",
       "      <td>George Gill</td>\n",
       "      <td>Category 1: 'Risk' (Low performance, Low poten...</td>\n",
       "      <td>George gill's performance is really poor. He d...</td>\n",
       "      <td>False</td>\n",
       "      <td>True</td>\n",
       "    </tr>\n",
       "  </tbody>\n",
       "</table>\n",
       "</div>"
      ],
      "text/plain": [
       "   id  person_name                                  nine_box_category  \\\n",
       "0   1     John Doe  Category 1: 'Risk' (Low performance, Low poten...   \n",
       "1   2     John Doe  Category 1: 'Risk' (Low performance, Low poten...   \n",
       "2   3     John Doe  Category 1: 'Risk' (Low performance, Low poten...   \n",
       "3   6     John Doe  Category 1: 'Risk' (Low performance, Low poten...   \n",
       "4   7  George Gill  Category 1: 'Risk' (Low performance, Low poten...   \n",
       "\n",
       "                                            feedback  adjusted  reviewed  \n",
       "0  John has not progressed in his position. He is...     False      True  \n",
       "1  John has consistently disappointed me this qua...     False      True  \n",
       "2  John turned in subpar work product all quarter...     False      True  \n",
       "3  John Doe demonstrates a low level of knowledge...     False      True  \n",
       "4  George gill's performance is really poor. He d...     False      True  "
      ]
     },
     "execution_count": 9,
     "metadata": {},
     "output_type": "execute_result"
    }
   ],
   "source": [
    "df.head()  #getting overviw of first 5 lines of the dataset using head() function"
   ]
  },
  {
   "cell_type": "markdown",
   "metadata": {},
   "source": [
    "***Basic statistics***"
   ]
  },
  {
   "cell_type": "code",
   "execution_count": 6,
   "metadata": {},
   "outputs": [
    {
     "data": {
      "text/html": [
       "<div>\n",
       "<style scoped>\n",
       "    .dataframe tbody tr th:only-of-type {\n",
       "        vertical-align: middle;\n",
       "    }\n",
       "\n",
       "    .dataframe tbody tr th {\n",
       "        vertical-align: top;\n",
       "    }\n",
       "\n",
       "    .dataframe thead th {\n",
       "        text-align: right;\n",
       "    }\n",
       "</style>\n",
       "<table border=\"1\" class=\"dataframe\">\n",
       "  <thead>\n",
       "    <tr style=\"text-align: right;\">\n",
       "      <th></th>\n",
       "      <th>id</th>\n",
       "    </tr>\n",
       "  </thead>\n",
       "  <tbody>\n",
       "    <tr>\n",
       "      <th>count</th>\n",
       "      <td>878.000000</td>\n",
       "    </tr>\n",
       "    <tr>\n",
       "      <th>mean</th>\n",
       "      <td>3235.269932</td>\n",
       "    </tr>\n",
       "    <tr>\n",
       "      <th>std</th>\n",
       "      <td>4956.401144</td>\n",
       "    </tr>\n",
       "    <tr>\n",
       "      <th>min</th>\n",
       "      <td>1.000000</td>\n",
       "    </tr>\n",
       "    <tr>\n",
       "      <th>25%</th>\n",
       "      <td>237.250000</td>\n",
       "    </tr>\n",
       "    <tr>\n",
       "      <th>50%</th>\n",
       "      <td>473.500000</td>\n",
       "    </tr>\n",
       "    <tr>\n",
       "      <th>75%</th>\n",
       "      <td>10019.750000</td>\n",
       "    </tr>\n",
       "    <tr>\n",
       "      <th>max</th>\n",
       "      <td>20222.000000</td>\n",
       "    </tr>\n",
       "  </tbody>\n",
       "</table>\n",
       "</div>"
      ],
      "text/plain": [
       "                 id\n",
       "count    878.000000\n",
       "mean    3235.269932\n",
       "std     4956.401144\n",
       "min        1.000000\n",
       "25%      237.250000\n",
       "50%      473.500000\n",
       "75%    10019.750000\n",
       "max    20222.000000"
      ]
     },
     "execution_count": 6,
     "metadata": {},
     "output_type": "execute_result"
    }
   ],
   "source": [
    "df.describe() #to get the descrivtive stats of the dataframe\n"
   ]
  },
  {
   "cell_type": "markdown",
   "metadata": {},
   "source": [
    "***Exploring The Data***"
   ]
  },
  {
   "cell_type": "code",
   "execution_count": 7,
   "metadata": {},
   "outputs": [
    {
     "name": "stdout",
     "output_type": "stream",
     "text": [
      "Data Shape: (878, 6) \n",
      "\n",
      "Data Columns: Index(['id', 'person_name', 'nine_box_category', 'feedback', 'adjusted',\n",
      "       'reviewed'],\n",
      "      dtype='object') \n",
      "\n",
      "Data Types:\n",
      " id                    int64\n",
      "person_name          object\n",
      "nine_box_category    object\n",
      "feedback             object\n",
      "adjusted               bool\n",
      "reviewed               bool\n",
      "dtype: object \n",
      "\n",
      "Missing Values:\n",
      " id                   0\n",
      "person_name          0\n",
      "nine_box_category    0\n",
      "feedback             0\n",
      "adjusted             0\n",
      "reviewed             0\n",
      "dtype: int64 \n",
      "\n"
     ]
    }
   ],
   "source": [
    "print(\"Data Shape:\", df.shape,'\\n')\n",
    "print(\"Data Columns:\", df.columns,'\\n')\n",
    "print(\"Data Types:\\n\", df.dtypes,'\\n')\n",
    "print(\"Missing Values:\\n\", df.isnull().sum(),'\\n')"
   ]
  },
  {
   "cell_type": "markdown",
   "metadata": {},
   "source": [
    "***Data Cleaning***"
   ]
  },
  {
   "cell_type": "markdown",
   "metadata": {},
   "source": [
    "***Replace null values***"
   ]
  },
  {
   "cell_type": "code",
   "execution_count": 8,
   "metadata": {},
   "outputs": [
    {
     "data": {
      "text/html": [
       "<div>\n",
       "<style scoped>\n",
       "    .dataframe tbody tr th:only-of-type {\n",
       "        vertical-align: middle;\n",
       "    }\n",
       "\n",
       "    .dataframe tbody tr th {\n",
       "        vertical-align: top;\n",
       "    }\n",
       "\n",
       "    .dataframe thead th {\n",
       "        text-align: right;\n",
       "    }\n",
       "</style>\n",
       "<table border=\"1\" class=\"dataframe\">\n",
       "  <thead>\n",
       "    <tr style=\"text-align: right;\">\n",
       "      <th></th>\n",
       "      <th>id</th>\n",
       "      <th>person_name</th>\n",
       "      <th>nine_box_category</th>\n",
       "      <th>feedback</th>\n",
       "      <th>adjusted</th>\n",
       "      <th>reviewed</th>\n",
       "    </tr>\n",
       "  </thead>\n",
       "  <tbody>\n",
       "    <tr>\n",
       "      <th>0</th>\n",
       "      <td>1</td>\n",
       "      <td>John Doe</td>\n",
       "      <td>Category 1: 'Risk' (Low performance, Low poten...</td>\n",
       "      <td>John has not progressed in his position. He is...</td>\n",
       "      <td>False</td>\n",
       "      <td>True</td>\n",
       "    </tr>\n",
       "    <tr>\n",
       "      <th>1</th>\n",
       "      <td>2</td>\n",
       "      <td>John Doe</td>\n",
       "      <td>Category 1: 'Risk' (Low performance, Low poten...</td>\n",
       "      <td>John has consistently disappointed me this qua...</td>\n",
       "      <td>False</td>\n",
       "      <td>True</td>\n",
       "    </tr>\n",
       "    <tr>\n",
       "      <th>2</th>\n",
       "      <td>3</td>\n",
       "      <td>John Doe</td>\n",
       "      <td>Category 1: 'Risk' (Low performance, Low poten...</td>\n",
       "      <td>John turned in subpar work product all quarter...</td>\n",
       "      <td>False</td>\n",
       "      <td>True</td>\n",
       "    </tr>\n",
       "    <tr>\n",
       "      <th>3</th>\n",
       "      <td>6</td>\n",
       "      <td>John Doe</td>\n",
       "      <td>Category 1: 'Risk' (Low performance, Low poten...</td>\n",
       "      <td>John Doe demonstrates a low level of knowledge...</td>\n",
       "      <td>False</td>\n",
       "      <td>True</td>\n",
       "    </tr>\n",
       "    <tr>\n",
       "      <th>4</th>\n",
       "      <td>7</td>\n",
       "      <td>George Gill</td>\n",
       "      <td>Category 1: 'Risk' (Low performance, Low poten...</td>\n",
       "      <td>George gill's performance is really poor. He d...</td>\n",
       "      <td>False</td>\n",
       "      <td>True</td>\n",
       "    </tr>\n",
       "    <tr>\n",
       "      <th>...</th>\n",
       "      <td>...</td>\n",
       "      <td>...</td>\n",
       "      <td>...</td>\n",
       "      <td>...</td>\n",
       "      <td>...</td>\n",
       "      <td>...</td>\n",
       "    </tr>\n",
       "    <tr>\n",
       "      <th>873</th>\n",
       "      <td>10205</td>\n",
       "      <td>Bailey Hunt</td>\n",
       "      <td>Category 9: 'Star' (High performance, High pot...</td>\n",
       "      <td>No one performs like Bailey. I believe she wil...</td>\n",
       "      <td>False</td>\n",
       "      <td>False</td>\n",
       "    </tr>\n",
       "    <tr>\n",
       "      <th>874</th>\n",
       "      <td>10226</td>\n",
       "      <td>Thaddeus Burgess</td>\n",
       "      <td>Category 9: 'Star' (High performance, High pot...</td>\n",
       "      <td>Thaddeus Burgess is a constant force within th...</td>\n",
       "      <td>True</td>\n",
       "      <td>True</td>\n",
       "    </tr>\n",
       "    <tr>\n",
       "      <th>875</th>\n",
       "      <td>20022</td>\n",
       "      <td>Max Miller</td>\n",
       "      <td>Category 9: 'Star' (High performance, High pot...</td>\n",
       "      <td>Max Miller is a a great coworker.   He is dili...</td>\n",
       "      <td>True</td>\n",
       "      <td>True</td>\n",
       "    </tr>\n",
       "    <tr>\n",
       "      <th>876</th>\n",
       "      <td>20023</td>\n",
       "      <td>Allan Logan</td>\n",
       "      <td>Category 9: 'Star' (High performance, High pot...</td>\n",
       "      <td>Allan Logan, Excellent performer absolutely bl...</td>\n",
       "      <td>True</td>\n",
       "      <td>True</td>\n",
       "    </tr>\n",
       "    <tr>\n",
       "      <th>877</th>\n",
       "      <td>20024</td>\n",
       "      <td>Allan Logan</td>\n",
       "      <td>Category 9: 'Star' (High performance, High pot...</td>\n",
       "      <td>Allan Logan touches anything and it turns to g...</td>\n",
       "      <td>True</td>\n",
       "      <td>True</td>\n",
       "    </tr>\n",
       "  </tbody>\n",
       "</table>\n",
       "<p>878 rows × 6 columns</p>\n",
       "</div>"
      ],
      "text/plain": [
       "        id       person_name  \\\n",
       "0        1          John Doe   \n",
       "1        2          John Doe   \n",
       "2        3          John Doe   \n",
       "3        6          John Doe   \n",
       "4        7       George Gill   \n",
       "..     ...               ...   \n",
       "873  10205       Bailey Hunt   \n",
       "874  10226  Thaddeus Burgess   \n",
       "875  20022        Max Miller   \n",
       "876  20023       Allan Logan   \n",
       "877  20024       Allan Logan   \n",
       "\n",
       "                                     nine_box_category  \\\n",
       "0    Category 1: 'Risk' (Low performance, Low poten...   \n",
       "1    Category 1: 'Risk' (Low performance, Low poten...   \n",
       "2    Category 1: 'Risk' (Low performance, Low poten...   \n",
       "3    Category 1: 'Risk' (Low performance, Low poten...   \n",
       "4    Category 1: 'Risk' (Low performance, Low poten...   \n",
       "..                                                 ...   \n",
       "873  Category 9: 'Star' (High performance, High pot...   \n",
       "874  Category 9: 'Star' (High performance, High pot...   \n",
       "875  Category 9: 'Star' (High performance, High pot...   \n",
       "876  Category 9: 'Star' (High performance, High pot...   \n",
       "877  Category 9: 'Star' (High performance, High pot...   \n",
       "\n",
       "                                              feedback  adjusted  reviewed  \n",
       "0    John has not progressed in his position. He is...     False      True  \n",
       "1    John has consistently disappointed me this qua...     False      True  \n",
       "2    John turned in subpar work product all quarter...     False      True  \n",
       "3    John Doe demonstrates a low level of knowledge...     False      True  \n",
       "4    George gill's performance is really poor. He d...     False      True  \n",
       "..                                                 ...       ...       ...  \n",
       "873  No one performs like Bailey. I believe she wil...     False     False  \n",
       "874  Thaddeus Burgess is a constant force within th...      True      True  \n",
       "875  Max Miller is a a great coworker.   He is dili...      True      True  \n",
       "876  Allan Logan, Excellent performer absolutely bl...      True      True  \n",
       "877  Allan Logan touches anything and it turns to g...      True      True  \n",
       "\n",
       "[878 rows x 6 columns]"
      ]
     },
     "execution_count": 8,
     "metadata": {},
     "output_type": "execute_result"
    }
   ],
   "source": [
    "df = df.replace(\"s\",\"NA\")\n",
    "df"
   ]
  },
  {
   "cell_type": "markdown",
   "metadata": {},
   "source": [
    "***Removing missing values***"
   ]
  },
  {
   "cell_type": "code",
   "execution_count": 9,
   "metadata": {},
   "outputs": [],
   "source": [
    "df = df.dropna()"
   ]
  },
  {
   "cell_type": "code",
   "execution_count": 10,
   "metadata": {},
   "outputs": [
    {
     "data": {
      "text/html": [
       "<div>\n",
       "<style scoped>\n",
       "    .dataframe tbody tr th:only-of-type {\n",
       "        vertical-align: middle;\n",
       "    }\n",
       "\n",
       "    .dataframe tbody tr th {\n",
       "        vertical-align: top;\n",
       "    }\n",
       "\n",
       "    .dataframe thead th {\n",
       "        text-align: right;\n",
       "    }\n",
       "</style>\n",
       "<table border=\"1\" class=\"dataframe\">\n",
       "  <thead>\n",
       "    <tr style=\"text-align: right;\">\n",
       "      <th></th>\n",
       "      <th>id</th>\n",
       "      <th>person_name</th>\n",
       "      <th>nine_box_category</th>\n",
       "      <th>feedback</th>\n",
       "      <th>adjusted</th>\n",
       "      <th>reviewed</th>\n",
       "    </tr>\n",
       "  </thead>\n",
       "  <tbody>\n",
       "    <tr>\n",
       "      <th>0</th>\n",
       "      <td>1</td>\n",
       "      <td>John Doe</td>\n",
       "      <td>Category 1: 'Risk' (Low performance, Low poten...</td>\n",
       "      <td>John has not progressed in his position. He is...</td>\n",
       "      <td>False</td>\n",
       "      <td>True</td>\n",
       "    </tr>\n",
       "    <tr>\n",
       "      <th>1</th>\n",
       "      <td>2</td>\n",
       "      <td>John Doe</td>\n",
       "      <td>Category 1: 'Risk' (Low performance, Low poten...</td>\n",
       "      <td>John has consistently disappointed me this qua...</td>\n",
       "      <td>False</td>\n",
       "      <td>True</td>\n",
       "    </tr>\n",
       "    <tr>\n",
       "      <th>2</th>\n",
       "      <td>3</td>\n",
       "      <td>John Doe</td>\n",
       "      <td>Category 1: 'Risk' (Low performance, Low poten...</td>\n",
       "      <td>John turned in subpar work product all quarter...</td>\n",
       "      <td>False</td>\n",
       "      <td>True</td>\n",
       "    </tr>\n",
       "    <tr>\n",
       "      <th>3</th>\n",
       "      <td>6</td>\n",
       "      <td>John Doe</td>\n",
       "      <td>Category 1: 'Risk' (Low performance, Low poten...</td>\n",
       "      <td>John Doe demonstrates a low level of knowledge...</td>\n",
       "      <td>False</td>\n",
       "      <td>True</td>\n",
       "    </tr>\n",
       "    <tr>\n",
       "      <th>4</th>\n",
       "      <td>7</td>\n",
       "      <td>George Gill</td>\n",
       "      <td>Category 1: 'Risk' (Low performance, Low poten...</td>\n",
       "      <td>George gill's performance is really poor. He d...</td>\n",
       "      <td>False</td>\n",
       "      <td>True</td>\n",
       "    </tr>\n",
       "  </tbody>\n",
       "</table>\n",
       "</div>"
      ],
      "text/plain": [
       "   id  person_name                                  nine_box_category  \\\n",
       "0   1     John Doe  Category 1: 'Risk' (Low performance, Low poten...   \n",
       "1   2     John Doe  Category 1: 'Risk' (Low performance, Low poten...   \n",
       "2   3     John Doe  Category 1: 'Risk' (Low performance, Low poten...   \n",
       "3   6     John Doe  Category 1: 'Risk' (Low performance, Low poten...   \n",
       "4   7  George Gill  Category 1: 'Risk' (Low performance, Low poten...   \n",
       "\n",
       "                                            feedback  adjusted  reviewed  \n",
       "0  John has not progressed in his position. He is...     False      True  \n",
       "1  John has consistently disappointed me this qua...     False      True  \n",
       "2  John turned in subpar work product all quarter...     False      True  \n",
       "3  John Doe demonstrates a low level of knowledge...     False      True  \n",
       "4  George gill's performance is really poor. He d...     False      True  "
      ]
     },
     "execution_count": 10,
     "metadata": {},
     "output_type": "execute_result"
    }
   ],
   "source": [
    "df = df.head()\n",
    "df"
   ]
  },
  {
   "cell_type": "markdown",
   "metadata": {},
   "source": [
    "# EDA : Exploratory Data Analysis"
   ]
  },
  {
   "cell_type": "markdown",
   "metadata": {},
   "source": [
    "***Removing duplicates***"
   ]
  },
  {
   "cell_type": "code",
   "execution_count": 11,
   "metadata": {},
   "outputs": [
    {
     "data": {
      "text/plain": [
       "0    False\n",
       "1    False\n",
       "2    False\n",
       "3    False\n",
       "4    False\n",
       "dtype: bool"
      ]
     },
     "execution_count": 11,
     "metadata": {},
     "output_type": "execute_result"
    }
   ],
   "source": [
    "df = df.duplicated()\n",
    "df"
   ]
  },
  {
   "cell_type": "code",
   "execution_count": 12,
   "metadata": {},
   "outputs": [],
   "source": [
    "df.drop_duplicates(inplace=True)"
   ]
  },
  {
   "cell_type": "code",
   "execution_count": 13,
   "metadata": {},
   "outputs": [
    {
     "name": "stdout",
     "output_type": "stream",
     "text": [
      "<class 'pandas.core.series.Series'>\n",
      "Index: 1 entries, 0 to 0\n",
      "Series name: None\n",
      "Non-Null Count  Dtype\n",
      "--------------  -----\n",
      "1 non-null      bool \n",
      "dtypes: bool(1)\n",
      "memory usage: 9.0 bytes\n"
     ]
    }
   ],
   "source": [
    "df.info()"
   ]
  },
  {
   "cell_type": "markdown",
   "metadata": {},
   "source": [
    "***Checking Missing Values***"
   ]
  },
  {
   "cell_type": "code",
   "execution_count": 14,
   "metadata": {},
   "outputs": [
    {
     "data": {
      "text/plain": [
       "0"
      ]
     },
     "execution_count": 14,
     "metadata": {},
     "output_type": "execute_result"
    }
   ],
   "source": [
    "df = df.copy()\n",
    "\n",
    "df = df.isnull().sum()\n",
    "df"
   ]
  },
  {
   "cell_type": "markdown",
   "metadata": {},
   "source": [
    "***Data Visualisation***"
   ]
  },
  {
   "cell_type": "code",
   "execution_count": 18,
   "metadata": {},
   "outputs": [
    {
     "ename": "NameError",
     "evalue": "name 'feedback' is not defined",
     "output_type": "error",
     "traceback": [
      "\u001b[1;31m---------------------------------------------------------------------------\u001b[0m",
      "\u001b[1;31mNameError\u001b[0m                                 Traceback (most recent call last)",
      "Cell \u001b[1;32mIn[18], line 1\u001b[0m\n\u001b[1;32m----> 1\u001b[0m sns\u001b[38;5;241m.\u001b[39mkdeplot(df[\u001b[43mfeedback\u001b[49m], shade\u001b[38;5;241m=\u001b[39m\u001b[38;5;28;01mTrue\u001b[39;00m, label\u001b[38;5;241m=\u001b[39mfeedback)\n\u001b[0;32m      2\u001b[0m plt\u001b[38;5;241m.\u001b[39mtitle(\u001b[38;5;124m'\u001b[39m\u001b[38;5;124mKDE Plot of Analyze Feedbacks\u001b[39m\u001b[38;5;124m'\u001b[39m)\n\u001b[0;32m      3\u001b[0m plt\u001b[38;5;241m.\u001b[39mxlabel(\u001b[38;5;124m'\u001b[39m\u001b[38;5;124mFeedbacks\u001b[39m\u001b[38;5;124m'\u001b[39m)\n",
      "\u001b[1;31mNameError\u001b[0m: name 'feedback' is not defined"
     ]
    }
   ],
   "source": [
    "continuous_features = ['QTY', 'VALUE', 'PRICE']\n",
    "for feature in continuous_features:\n",
    "    sns.kdeplot(df[feature], shade=True, label=feature)\n",
    "plt.title('KDE Plot of Continuous Features')\n",
    "plt.xlabel('Value')\n",
    "plt.ylabel('Density')\n",
    "plt.xlim(0, 500)\n",
    "plt.legend()\n",
    "plt.show()"
   ]
  },
  {
   "cell_type": "code",
   "execution_count": null,
   "metadata": {},
   "outputs": [],
   "source": [
    "from collections import Counter\n",
    "\n",
    "word_tokens = df['review_text'].apply(word_tokenize)\n",
    "word_freq = Counter(word for tokens in word_tokens for word in tokens)\n",
    "\n",
    "plt.barh(range(10), [freq for word, freq in word_freq.most_common(10)])\n",
    "plt.xlabel('Frequency')\n",
    "plt.ylabel('Word')\n",
    "plt.title('Top 10 Most Common Words')\n",
    "plt.show()"
   ]
  },
  {
   "cell_type": "code",
   "execution_count": null,
   "metadata": {},
   "outputs": [],
   "source": [
    "review_lengths = df['review_text'].apply(len)\n",
    "plt.hist(review_lengths, bins=50)\n",
    "plt.xlabel('Review Length')\n",
    "plt.ylabel('Frequency')\n",
    "plt.title('Distribution of Review Lengths')\n",
    "plt.show()"
   ]
  }
 ],
 "metadata": {
  "kernelspec": {
   "display_name": "Python 3",
   "language": "python",
   "name": "python3"
  },
  "language_info": {
   "codemirror_mode": {
    "name": "ipython",
    "version": 3
   },
   "file_extension": ".py",
   "mimetype": "text/x-python",
   "name": "python",
   "nbconvert_exporter": "python",
   "pygments_lexer": "ipython3",
   "version": "3.12.4"
  }
 },
 "nbformat": 4,
 "nbformat_minor": 2
}
